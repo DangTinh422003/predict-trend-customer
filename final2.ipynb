{
 "cells": [
  {
   "cell_type": "code",
   "execution_count": 9,
   "metadata": {},
   "outputs": [],
   "source": [
    "import pandas as pd\n",
    "import numpy as np\n",
    "import csv"
   ]
  },
  {
   "cell_type": "code",
   "execution_count": 10,
   "metadata": {},
   "outputs": [
    {
     "data": {
      "text/html": [
       "<div>\n",
       "<style scoped>\n",
       "    .dataframe tbody tr th:only-of-type {\n",
       "        vertical-align: middle;\n",
       "    }\n",
       "\n",
       "    .dataframe tbody tr th {\n",
       "        vertical-align: top;\n",
       "    }\n",
       "\n",
       "    .dataframe thead th {\n",
       "        text-align: right;\n",
       "    }\n",
       "</style>\n",
       "<table border=\"1\" class=\"dataframe\">\n",
       "  <thead>\n",
       "    <tr style=\"text-align: right;\">\n",
       "      <th></th>\n",
       "      <th>Age</th>\n",
       "      <th>Customer ID</th>\n",
       "      <th>Item Purchased</th>\n",
       "      <th>Gender</th>\n",
       "      <th>Purchase Amount (USD)</th>\n",
       "      <th>Location</th>\n",
       "      <th>Size</th>\n",
       "      <th>Category</th>\n",
       "      <th>Color</th>\n",
       "      <th>Season</th>\n",
       "      <th>Review Rating</th>\n",
       "      <th>Subscription Status</th>\n",
       "      <th>Shipping Type</th>\n",
       "      <th>Promo Code Used</th>\n",
       "      <th>Previous Purchases</th>\n",
       "      <th>Payment Method</th>\n",
       "      <th>Frequency of Purchases</th>\n",
       "    </tr>\n",
       "  </thead>\n",
       "  <tbody>\n",
       "    <tr>\n",
       "      <th>0</th>\n",
       "      <td>55</td>\n",
       "      <td>1</td>\n",
       "      <td>Blouse</td>\n",
       "      <td>Male</td>\n",
       "      <td>53.0</td>\n",
       "      <td>Kentucky</td>\n",
       "      <td>L</td>\n",
       "      <td>Clothing</td>\n",
       "      <td>Gray</td>\n",
       "      <td>Winter</td>\n",
       "      <td>3.1</td>\n",
       "      <td>Yes</td>\n",
       "      <td>Express</td>\n",
       "      <td>Yes</td>\n",
       "      <td>14.0</td>\n",
       "      <td>Venmo</td>\n",
       "      <td>Fortnightly</td>\n",
       "    </tr>\n",
       "    <tr>\n",
       "      <th>1</th>\n",
       "      <td>19</td>\n",
       "      <td>2</td>\n",
       "      <td>Sweater</td>\n",
       "      <td>Male</td>\n",
       "      <td>64.0</td>\n",
       "      <td>Maine</td>\n",
       "      <td>L</td>\n",
       "      <td>Clothing</td>\n",
       "      <td>Maroon</td>\n",
       "      <td>Winter</td>\n",
       "      <td>3.1</td>\n",
       "      <td>Yes</td>\n",
       "      <td>Express</td>\n",
       "      <td>Yes</td>\n",
       "      <td>2.0</td>\n",
       "      <td>Cash</td>\n",
       "      <td>Fortnightly</td>\n",
       "    </tr>\n",
       "    <tr>\n",
       "      <th>2</th>\n",
       "      <td>50</td>\n",
       "      <td>3</td>\n",
       "      <td>Jeans</td>\n",
       "      <td>Male</td>\n",
       "      <td>73.0</td>\n",
       "      <td>Massachusetts</td>\n",
       "      <td>S</td>\n",
       "      <td>Clothing</td>\n",
       "      <td>Maroon</td>\n",
       "      <td>Spring</td>\n",
       "      <td>3.1</td>\n",
       "      <td>Yes</td>\n",
       "      <td>Free Shipping</td>\n",
       "      <td>Yes</td>\n",
       "      <td>23.0</td>\n",
       "      <td>Credit Card</td>\n",
       "      <td>Weekly</td>\n",
       "    </tr>\n",
       "    <tr>\n",
       "      <th>3</th>\n",
       "      <td>21</td>\n",
       "      <td>4</td>\n",
       "      <td>Sandals</td>\n",
       "      <td>Male</td>\n",
       "      <td>90.0</td>\n",
       "      <td>Rhode Island</td>\n",
       "      <td>M</td>\n",
       "      <td>Footwear</td>\n",
       "      <td>Maroon</td>\n",
       "      <td>Spring</td>\n",
       "      <td>3.5</td>\n",
       "      <td>Yes</td>\n",
       "      <td>Next Day Air</td>\n",
       "      <td>Yes</td>\n",
       "      <td>49.0</td>\n",
       "      <td>PayPal</td>\n",
       "      <td>Weekly</td>\n",
       "    </tr>\n",
       "  </tbody>\n",
       "</table>\n",
       "</div>"
      ],
      "text/plain": [
       "   Age  Customer ID Item Purchased Gender  Purchase Amount (USD)  \\\n",
       "0   55            1         Blouse   Male                   53.0   \n",
       "1   19            2        Sweater   Male                   64.0   \n",
       "2   50            3          Jeans   Male                   73.0   \n",
       "3   21            4        Sandals   Male                   90.0   \n",
       "\n",
       "        Location Size  Category   Color  Season  Review Rating  \\\n",
       "0       Kentucky    L  Clothing    Gray  Winter            3.1   \n",
       "1          Maine    L  Clothing  Maroon  Winter            3.1   \n",
       "2  Massachusetts    S  Clothing  Maroon  Spring            3.1   \n",
       "3   Rhode Island    M  Footwear  Maroon  Spring            3.5   \n",
       "\n",
       "  Subscription Status  Shipping Type Promo Code Used  Previous Purchases  \\\n",
       "0                 Yes        Express             Yes                14.0   \n",
       "1                 Yes        Express             Yes                 2.0   \n",
       "2                 Yes  Free Shipping             Yes                23.0   \n",
       "3                 Yes   Next Day Air             Yes                49.0   \n",
       "\n",
       "  Payment Method Frequency of Purchases  \n",
       "0          Venmo            Fortnightly  \n",
       "1           Cash            Fortnightly  \n",
       "2    Credit Card                 Weekly  \n",
       "3         PayPal                 Weekly  "
      ]
     },
     "execution_count": 10,
     "metadata": {},
     "output_type": "execute_result"
    }
   ],
   "source": [
    "data = pd.read_csv('shopping_behavior_updated.csv')\n",
    "data.head(4)"
   ]
  },
  {
   "cell_type": "code",
   "execution_count": 11,
   "metadata": {},
   "outputs": [],
   "source": [
    "data_expand= data.loc[data.index.repeat(30)].reset_index(drop= True)"
   ]
  },
  {
   "cell_type": "code",
   "execution_count": 12,
   "metadata": {},
   "outputs": [
    {
     "data": {
      "text/plain": [
       "(3000000, 17)"
      ]
     },
     "execution_count": 12,
     "metadata": {},
     "output_type": "execute_result"
    }
   ],
   "source": [
    "data_expand.shape"
   ]
  },
  {
   "cell_type": "code",
   "execution_count": 13,
   "metadata": {},
   "outputs": [
    {
     "data": {
      "text/plain": [
       "(3000000, 18)"
      ]
     },
     "execution_count": 13,
     "metadata": {},
     "output_type": "execute_result"
    }
   ],
   "source": [
    "data_expand['id'] = np.arange(1, len(data_expand)+1)\n",
    "data_expand.shape"
   ]
  },
  {
   "cell_type": "code",
   "execution_count": 14,
   "metadata": {},
   "outputs": [
    {
     "name": "stdout",
     "output_type": "stream",
     "text": [
      "['Kentucky' 'Maine' 'Massachusetts' 'Rhode Island' 'Oregon' 'Wyoming'\n",
      " 'Montana' 'Louisiana' 'West Virginia' 'Missouri' 'Arkansas' 'Hawaii'\n",
      " 'Delaware' 'New Hampshire' 'New York' 'Alabama' 'Mississippi'\n",
      " 'North Carolina' 'California' 'Oklahoma' 'Florida' 'Texas' 'Nevada'\n",
      " 'Kansas' 'Colorado' 'North Dakota' 'Illinois' 'Indiana' 'Arizona'\n",
      " 'Alaska' 'Tennessee' 'Ohio' 'New Jersey' 'Maryland' 'Vermont'\n",
      " 'New Mexico' 'South Carolina' 'Idaho' 'Pennsylvania' 'Connecticut' 'Utah'\n",
      " 'Virginia' 'Georgia' 'Nebraska' 'Iowa' 'South Dakota' 'Minnesota'\n",
      " 'Washington' 'Wisconsin' 'Michigan']\n"
     ]
    }
   ],
   "source": [
    "print(data_expand['Location'].unique())"
   ]
  },
  {
   "cell_type": "code",
   "execution_count": 15,
   "metadata": {},
   "outputs": [],
   "source": [
    "# Tạo từ điển ánh xạ các bang đến danh sách thành phố và khu vực\n",
    "state_info_mapping = {\n",
    "    'Kentucky': {'cities': ['Louisville', 'Lexington', 'Bowling Green'], 'region': 'South'},\n",
    "    'Maine': {'cities': ['Portland', 'Bangor', 'Augusta'], 'region': 'Northeast'},\n",
    "    'Massachusetts': {'cities': ['Boston', 'Worcester', 'Springfield'], 'region': 'Northeast'},\n",
    "    'Rhode Island': {'cities': ['Providence', 'Cranston', 'Warwick'], 'region': 'Northeast'},\n",
    "    'Oregon': {'cities': ['Portland', 'Salem', 'Eugene'], 'region': 'West'},\n",
    "    'Wyoming': {'cities': ['Cheyenne', 'Casper', 'Laramie'], 'region': 'West'},\n",
    "    'Montana': {'cities': ['Billings', 'Missoula', 'Bozeman'], 'region': 'West'},\n",
    "    'Louisiana': {'cities': ['New Orleans', 'Baton Rouge', 'Shreveport'], 'region': 'South'},\n",
    "    'West Virginia': {'cities': ['Charleston', 'Huntington', 'Morgantown'], 'region': 'South'},\n",
    "    'Missouri': {'cities': ['Kansas City', 'St. Louis', 'Springfield'], 'region': 'Midwest'},\n",
    "    'Arkansas': {'cities': ['Little Rock', 'Fayetteville', 'Fort Smith'], 'region': 'South'},\n",
    "    'Hawaii': {'cities': ['Honolulu', 'Hilo', 'Kailua'], 'region': 'West'},\n",
    "    'Delaware': {'cities': ['Wilmington', 'Dover', 'Newark'], 'region': 'Northeast'},\n",
    "    'New Hampshire': {'cities': ['Manchester', 'Concord', 'Nashua'], 'region': 'Northeast'},\n",
    "    'New York': {'cities': ['New York City', 'Buffalo', 'Rochester'], 'region': 'Northeast'},\n",
    "    'Alabama': {'cities': ['Birmingham', 'Montgomery', 'Mobile'], 'region': 'South'},\n",
    "    'Mississippi': {'cities': ['Jackson', 'Gulfport', 'Southaven'], 'region': 'South'},\n",
    "    'North Carolina': {'cities': ['Charlotte', 'Raleigh', 'Greensboro'], 'region': 'South'},\n",
    "    'California': {'cities': ['Los Angeles', 'San Francisco', 'San Diego'], 'region': 'West'},\n",
    "    'Oklahoma': {'cities': ['Oklahoma City', 'Tulsa', 'Norman'], 'region': 'South'},\n",
    "    'Florida': {'cities': ['Miami', 'Orlando', 'Tampa'], 'region': 'South'},\n",
    "    'Texas': {'cities': ['Houston', 'Dallas', 'Austin'], 'region': 'South'},\n",
    "    'Nevada': {'cities': ['Las Vegas', 'Reno', 'Henderson'], 'region': 'West'},\n",
    "    'Kansas': {'cities': ['Wichita', 'Overland Park', 'Kansas City'], 'region': 'Midwest'},\n",
    "    'Colorado': {'cities': ['Denver', 'Colorado Springs', 'Aurora'], 'region': 'West'},\n",
    "    'North Dakota': {'cities': ['Fargo', 'Bismarck', 'Grand Forks'], 'region': 'Midwest'},\n",
    "    'Illinois': {'cities': ['Chicago', 'Aurora', 'Naperville'], 'region': 'Midwest'},\n",
    "    'Indiana': {'cities': ['Indianapolis', 'Fort Wayne', 'Evansville'], 'region': 'Midwest'},\n",
    "    'Arizona': {'cities': ['Phoenix', 'Tucson', 'Mesa'], 'region': 'West'},\n",
    "    'Alaska': {'cities': ['Anchorage', 'Fairbanks', 'Juneau'], 'region': 'West'},\n",
    "    'Tennessee': {'cities': ['Nashville', 'Memphis', 'Knoxville'], 'region': 'South'},\n",
    "    'Ohio': {'cities': ['Columbus', 'Cleveland', 'Cincinnati'], 'region': 'Midwest'},\n",
    "    'New Jersey': {'cities': ['Newark', 'Jersey City', 'Paterson'], 'region': 'Northeast'},\n",
    "    'Maryland': {'cities': ['Baltimore', 'Annapolis', 'Silver Spring'], 'region': 'Northeast'},\n",
    "    'Vermont': {'cities': ['Burlington', 'Montpelier', 'Stowe'], 'region': 'Northeast'},\n",
    "    'New Mexico': {'cities': ['Albuquerque', 'Santa Fe', 'Las Cruces'], 'region': 'West'},\n",
    "    'South Carolina': {'cities': ['Columbia', 'Charleston', 'Greenville'], 'region': 'South'},\n",
    "    'Idaho': {'cities': ['Boise', 'Idaho Falls', 'Pocatello'], 'region': 'West'},\n",
    "    'Pennsylvania': {'cities': ['Philadelphia', 'Pittsburgh', 'Allentown'], 'region': 'Northeast'},\n",
    "    'Connecticut': {'cities': ['Hartford', 'Bridgeport', 'New Haven'], 'region': 'Northeast'},\n",
    "    'Utah': {'cities': ['Salt Lake City', 'Provo', 'Ogden'], 'region': 'West'},\n",
    "    'Virginia': {'cities': ['Virginia Beach', 'Norfolk', 'Richmond'], 'region': 'South'},\n",
    "    'Georgia': {'cities': ['Atlanta', 'Augusta', 'Savannah'], 'region': 'South'},\n",
    "    'Nebraska': {'cities': ['Omaha', 'Lincoln', 'Bellevue'], 'region': 'Midwest'},\n",
    "    'Iowa': {'cities': ['Des Moines', 'Cedar Rapids', 'Davenport'], 'region': 'Midwest'},\n",
    "    'South Dakota': {'cities': ['Sioux Falls', 'Rapid City', 'Aberdeen'], 'region': 'Midwest'},\n",
    "    'Minnesota': {'cities': ['Minneapolis', 'Saint Paul', 'Rochester'], 'region': 'Midwest'},\n",
    "    'Washington': {'cities': ['Seattle', 'Spokane', 'Tacoma'], 'region': 'West'},\n",
    "    'Wisconsin': {'cities': ['Milwaukee', 'Madison', 'Green Bay'], 'region': 'Midwest'},\n",
    "    'Michigan': {'cities': ['Detroit', 'Grand Rapids', 'Ann Arbor'], 'region': 'Midwest'}\n",
    "}\n"
   ]
  },
  {
   "cell_type": "code",
   "execution_count": null,
   "metadata": {},
   "outputs": [],
   "source": [
    "def get_random_city_and_region(state):\n",
    "    if state in state_info_mapping:\n",
    "        city = np.random.choice(state_info_mapping[state]['cities'])\n",
    "        region = state_info_mapping[state]['region']\n",
    "        return city, region\n",
    "    else:\n",
    "        return None, None  # Trả về None nếu bang không có trong từ điển\n",
    "\n",
    "# Thêm cột City và Region vào DataFrame\n",
    "data_expand[['City', 'Region']] = data_expand['Location'].apply(\n",
    "    lambda state: pd.Series(get_random_city_and_region(state))\n",
    ")\n",
    "\n",
    "# Hiển thị DataFrame mới\n",
    "print(data_expand)"
   ]
  },
  {
   "cell_type": "code",
   "execution_count": null,
   "metadata": {},
   "outputs": [],
   "source": [
    "file_name = \"data_behavior_expand_x30.csv\"\n",
    "data_expand.to_csv(file_name, index=False, quoting=csv.QUOTE_ALL)"
   ]
  }
 ],
 "metadata": {
  "kernelspec": {
   "display_name": "myenv",
   "language": "python",
   "name": "python3"
  },
  "language_info": {
   "codemirror_mode": {
    "name": "ipython",
    "version": 3
   },
   "file_extension": ".py",
   "mimetype": "text/x-python",
   "name": "python",
   "nbconvert_exporter": "python",
   "pygments_lexer": "ipython3",
   "version": "3.12.3"
  }
 },
 "nbformat": 4,
 "nbformat_minor": 2
}
