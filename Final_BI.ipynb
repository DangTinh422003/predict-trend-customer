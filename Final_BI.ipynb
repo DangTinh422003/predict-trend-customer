{
 "cells": [
  {
   "cell_type": "code",
   "execution_count": 1,
   "metadata": {
    "id": "j1hB55A-eXS8"
   },
   "outputs": [],
   "source": [
    "import pandas as pd\n",
    "import numpy as np\n",
    "from sklearn.ensemble import RandomForestClassifier\n",
    "from sklearn.preprocessing import MultiLabelBinarizer, LabelEncoder, MinMaxScaler\n",
    "from sklearn.model_selection import train_test_split\n",
    "from sklearn.pipeline import make_pipeline\n",
    "from sklearn.multioutput import MultiOutputClassifier"
   ]
  },
  {
   "cell_type": "code",
   "execution_count": 2,
   "metadata": {
    "id": "nCNRhGBdfp2Y"
   },
   "outputs": [],
   "source": [
    "df = pd.read_csv(\"shopping_behavior_updated.csv\")\n",
    "# df = pd.read_csv(\"data_behavior_expand_x30.csv\")"
   ]
  },
  {
   "cell_type": "code",
   "execution_count": 3,
   "metadata": {
    "colab": {
     "base_uri": "https://localhost:8080/",
     "height": 178
    },
    "id": "HQ2FeND4gn0z",
    "outputId": "7b53eb03-6ca4-4cd9-af2f-d4bb58035086"
   },
   "outputs": [
    {
     "data": {
      "text/html": [
       "<div>\n",
       "<style scoped>\n",
       "    .dataframe tbody tr th:only-of-type {\n",
       "        vertical-align: middle;\n",
       "    }\n",
       "\n",
       "    .dataframe tbody tr th {\n",
       "        vertical-align: top;\n",
       "    }\n",
       "\n",
       "    .dataframe thead th {\n",
       "        text-align: right;\n",
       "    }\n",
       "</style>\n",
       "<table border=\"1\" class=\"dataframe\">\n",
       "  <thead>\n",
       "    <tr style=\"text-align: right;\">\n",
       "      <th></th>\n",
       "      <th>Age</th>\n",
       "      <th>Customer ID</th>\n",
       "      <th>Item Purchased</th>\n",
       "      <th>Gender</th>\n",
       "      <th>Purchase Amount (USD)</th>\n",
       "      <th>Location</th>\n",
       "      <th>Size</th>\n",
       "      <th>Category</th>\n",
       "      <th>Color</th>\n",
       "      <th>Season</th>\n",
       "      <th>Review Rating</th>\n",
       "      <th>Subscription Status</th>\n",
       "      <th>Shipping Type</th>\n",
       "      <th>Promo Code Used</th>\n",
       "      <th>Previous Purchases</th>\n",
       "      <th>Payment Method</th>\n",
       "      <th>Frequency of Purchases</th>\n",
       "    </tr>\n",
       "  </thead>\n",
       "  <tbody>\n",
       "    <tr>\n",
       "      <th>0</th>\n",
       "      <td>55</td>\n",
       "      <td>1</td>\n",
       "      <td>Blouse</td>\n",
       "      <td>Male</td>\n",
       "      <td>53.0</td>\n",
       "      <td>Kentucky</td>\n",
       "      <td>L</td>\n",
       "      <td>Clothing</td>\n",
       "      <td>Gray</td>\n",
       "      <td>Winter</td>\n",
       "      <td>3.1</td>\n",
       "      <td>Yes</td>\n",
       "      <td>Express</td>\n",
       "      <td>Yes</td>\n",
       "      <td>14.0</td>\n",
       "      <td>Venmo</td>\n",
       "      <td>Fortnightly</td>\n",
       "    </tr>\n",
       "    <tr>\n",
       "      <th>1</th>\n",
       "      <td>19</td>\n",
       "      <td>2</td>\n",
       "      <td>Sweater</td>\n",
       "      <td>Male</td>\n",
       "      <td>64.0</td>\n",
       "      <td>Maine</td>\n",
       "      <td>L</td>\n",
       "      <td>Clothing</td>\n",
       "      <td>Maroon</td>\n",
       "      <td>Winter</td>\n",
       "      <td>3.1</td>\n",
       "      <td>Yes</td>\n",
       "      <td>Express</td>\n",
       "      <td>Yes</td>\n",
       "      <td>2.0</td>\n",
       "      <td>Cash</td>\n",
       "      <td>Fortnightly</td>\n",
       "    </tr>\n",
       "    <tr>\n",
       "      <th>2</th>\n",
       "      <td>50</td>\n",
       "      <td>3</td>\n",
       "      <td>Jeans</td>\n",
       "      <td>Male</td>\n",
       "      <td>73.0</td>\n",
       "      <td>Massachusetts</td>\n",
       "      <td>S</td>\n",
       "      <td>Clothing</td>\n",
       "      <td>Maroon</td>\n",
       "      <td>Spring</td>\n",
       "      <td>3.1</td>\n",
       "      <td>Yes</td>\n",
       "      <td>Free Shipping</td>\n",
       "      <td>Yes</td>\n",
       "      <td>23.0</td>\n",
       "      <td>Credit Card</td>\n",
       "      <td>Weekly</td>\n",
       "    </tr>\n",
       "  </tbody>\n",
       "</table>\n",
       "</div>"
      ],
      "text/plain": [
       "   Age  Customer ID Item Purchased Gender  Purchase Amount (USD)  \\\n",
       "0   55            1         Blouse   Male                   53.0   \n",
       "1   19            2        Sweater   Male                   64.0   \n",
       "2   50            3          Jeans   Male                   73.0   \n",
       "\n",
       "        Location Size  Category   Color  Season  Review Rating  \\\n",
       "0       Kentucky    L  Clothing    Gray  Winter            3.1   \n",
       "1          Maine    L  Clothing  Maroon  Winter            3.1   \n",
       "2  Massachusetts    S  Clothing  Maroon  Spring            3.1   \n",
       "\n",
       "  Subscription Status  Shipping Type Promo Code Used  Previous Purchases  \\\n",
       "0                 Yes        Express             Yes                14.0   \n",
       "1                 Yes        Express             Yes                 2.0   \n",
       "2                 Yes  Free Shipping             Yes                23.0   \n",
       "\n",
       "  Payment Method Frequency of Purchases  \n",
       "0          Venmo            Fortnightly  \n",
       "1           Cash            Fortnightly  \n",
       "2    Credit Card                 Weekly  "
      ]
     },
     "execution_count": 3,
     "metadata": {},
     "output_type": "execute_result"
    }
   ],
   "source": [
    "df.head(3)"
   ]
  },
  {
   "cell_type": "code",
   "execution_count": 4,
   "metadata": {
    "colab": {
     "base_uri": "https://localhost:8080/",
     "height": 143
    },
    "id": "plbGhzzCguWU",
    "outputId": "1997610c-e150-42e7-f166-e3236ea41f91"
   },
   "outputs": [
    {
     "data": {
      "text/html": [
       "<div>\n",
       "<style scoped>\n",
       "    .dataframe tbody tr th:only-of-type {\n",
       "        vertical-align: middle;\n",
       "    }\n",
       "\n",
       "    .dataframe tbody tr th {\n",
       "        vertical-align: top;\n",
       "    }\n",
       "\n",
       "    .dataframe thead th {\n",
       "        text-align: right;\n",
       "    }\n",
       "</style>\n",
       "<table border=\"1\" class=\"dataframe\">\n",
       "  <thead>\n",
       "    <tr style=\"text-align: right;\">\n",
       "      <th></th>\n",
       "      <th>Age</th>\n",
       "      <th>Item Purchased</th>\n",
       "      <th>Gender</th>\n",
       "      <th>Purchase Amount (USD)</th>\n",
       "      <th>Location</th>\n",
       "      <th>Size</th>\n",
       "      <th>Category</th>\n",
       "      <th>Color</th>\n",
       "      <th>Season</th>\n",
       "      <th>Subscription Status</th>\n",
       "      <th>Previous Purchases</th>\n",
       "      <th>Payment Method</th>\n",
       "      <th>Frequency of Purchases</th>\n",
       "    </tr>\n",
       "  </thead>\n",
       "  <tbody>\n",
       "    <tr>\n",
       "      <th>0</th>\n",
       "      <td>55</td>\n",
       "      <td>Blouse</td>\n",
       "      <td>Male</td>\n",
       "      <td>53.0</td>\n",
       "      <td>Kentucky</td>\n",
       "      <td>L</td>\n",
       "      <td>Clothing</td>\n",
       "      <td>Gray</td>\n",
       "      <td>Winter</td>\n",
       "      <td>Yes</td>\n",
       "      <td>14.0</td>\n",
       "      <td>Venmo</td>\n",
       "      <td>Fortnightly</td>\n",
       "    </tr>\n",
       "    <tr>\n",
       "      <th>1</th>\n",
       "      <td>19</td>\n",
       "      <td>Sweater</td>\n",
       "      <td>Male</td>\n",
       "      <td>64.0</td>\n",
       "      <td>Maine</td>\n",
       "      <td>L</td>\n",
       "      <td>Clothing</td>\n",
       "      <td>Maroon</td>\n",
       "      <td>Winter</td>\n",
       "      <td>Yes</td>\n",
       "      <td>2.0</td>\n",
       "      <td>Cash</td>\n",
       "      <td>Fortnightly</td>\n",
       "    </tr>\n",
       "    <tr>\n",
       "      <th>2</th>\n",
       "      <td>50</td>\n",
       "      <td>Jeans</td>\n",
       "      <td>Male</td>\n",
       "      <td>73.0</td>\n",
       "      <td>Massachusetts</td>\n",
       "      <td>S</td>\n",
       "      <td>Clothing</td>\n",
       "      <td>Maroon</td>\n",
       "      <td>Spring</td>\n",
       "      <td>Yes</td>\n",
       "      <td>23.0</td>\n",
       "      <td>Credit Card</td>\n",
       "      <td>Weekly</td>\n",
       "    </tr>\n",
       "  </tbody>\n",
       "</table>\n",
       "</div>"
      ],
      "text/plain": [
       "   Age Item Purchased Gender  Purchase Amount (USD)       Location Size  \\\n",
       "0   55         Blouse   Male                   53.0       Kentucky    L   \n",
       "1   19        Sweater   Male                   64.0          Maine    L   \n",
       "2   50          Jeans   Male                   73.0  Massachusetts    S   \n",
       "\n",
       "   Category   Color  Season Subscription Status  Previous Purchases  \\\n",
       "0  Clothing    Gray  Winter                 Yes                14.0   \n",
       "1  Clothing  Maroon  Winter                 Yes                 2.0   \n",
       "2  Clothing  Maroon  Spring                 Yes                23.0   \n",
       "\n",
       "  Payment Method Frequency of Purchases  \n",
       "0          Venmo            Fortnightly  \n",
       "1           Cash            Fortnightly  \n",
       "2    Credit Card                 Weekly  "
      ]
     },
     "execution_count": 4,
     "metadata": {},
     "output_type": "execute_result"
    }
   ],
   "source": [
    "df = df.drop(labels=[\"Customer ID\",\"Review Rating\",\"Shipping Type\",\"Promo Code Used\"], axis = 1)\n",
    "df.head(3)"
   ]
  },
  {
   "cell_type": "code",
   "execution_count": 5,
   "metadata": {
    "colab": {
     "base_uri": "https://localhost:8080/"
    },
    "id": "ntPlhog9m5YM",
    "outputId": "d512e57d-e9cd-4df2-a86f-4c6b8a934a10"
   },
   "outputs": [
    {
     "name": "stdout",
     "output_type": "stream",
     "text": [
      "['Clothing' 'Footwear' 'Outerwear' 'Accessories']\n",
      "**********************************************************************\n",
      "['Kentucky' 'Maine' 'Massachusetts' 'Rhode Island' 'Oregon' 'Wyoming'\n",
      " 'Montana' 'Louisiana' 'West Virginia' 'Missouri' 'Arkansas' 'Hawaii'\n",
      " 'Delaware' 'New Hampshire' 'New York' 'Alabama' 'Mississippi'\n",
      " 'North Carolina' 'California' 'Oklahoma' 'Florida' 'Texas' 'Nevada'\n",
      " 'Kansas' 'Colorado' 'North Dakota' 'Illinois' 'Indiana' 'Arizona'\n",
      " 'Alaska' 'Tennessee' 'Ohio' 'New Jersey' 'Maryland' 'Vermont'\n",
      " 'New Mexico' 'South Carolina' 'Idaho' 'Pennsylvania' 'Connecticut' 'Utah'\n",
      " 'Virginia' 'Georgia' 'Nebraska' 'Iowa' 'South Dakota' 'Minnesota'\n",
      " 'Washington' 'Wisconsin' 'Michigan']\n",
      "**********************************************************************\n",
      "['Gray' 'Maroon' 'Turquoise' 'White' 'Charcoal' 'Silver' 'Pink' 'Purple'\n",
      " 'Olive' 'Gold' 'Violet' 'Teal' 'Lavender' 'Black' 'Green' 'Peach' 'Red'\n",
      " 'Cyan' 'Brown' 'Beige' 'Orange' 'Indigo' 'Yellow' 'Magenta' 'Blue']\n",
      "**********************************************************************\n",
      "['Winter' 'Spring' 'Summer' 'Fall']\n",
      "**********************************************************************\n",
      "['Male' 'Female']\n",
      "**********************************************************************\n",
      "['Yes' 'No']\n",
      "**********************************************************************\n",
      "['Fortnightly' 'Weekly' 'Annually' 'Quarterly' 'Bi-Weekly' 'Monthly'\n",
      " 'Every 3 Months']\n",
      "**********************************************************************\n",
      "['Blouse' 'Sweater' 'Jeans' 'Sandals' 'Sneakers' 'Shirt' 'Shorts' 'Coat'\n",
      " 'Handbag' 'Shoes' 'Dress' 'Skirt' 'Sunglasses' 'Pants' 'Jacket' 'Hoodie'\n",
      " 'Jewelry' 'T-shirt' 'Scarf' 'Hat' 'Socks' 'Backpack' 'Belt' 'Boots'\n",
      " 'Gloves']\n"
     ]
    }
   ],
   "source": [
    "print(df['Category'].unique())\n",
    "print(\"*\"*70)\n",
    "print(df['Location'].unique())\n",
    "print(\"*\"*70)\n",
    "print(df['Color'].unique())\n",
    "print(\"*\"*70)\n",
    "print(df['Season'].unique())\n",
    "print(\"*\"*70)\n",
    "print(df['Gender'].unique())\n",
    "print(\"*\"*70)\n",
    "print(df['Subscription Status'].unique())\n",
    "print(\"*\"*70)\n",
    "print(df['Frequency of Purchases'].unique())\n",
    "print(\"*\"*70)\n",
    "print(df['Item Purchased'].unique())\n"
   ]
  },
  {
   "cell_type": "code",
   "execution_count": 6,
   "metadata": {
    "id": "fa2Jx2nsqIRS"
   },
   "outputs": [],
   "source": [
    "names = df.columns\n",
    "types = df.dtypes\n",
    "\n",
    "scaler = MinMaxScaler()\n",
    "\n",
    "label_encoders = {}\n",
    "for col in names:\n",
    "    le = LabelEncoder()\n",
    "    df[col] = le.fit_transform(df[col])\n",
    "    label_encoders[col] = le\n"
   ]
  },
  {
   "cell_type": "markdown",
   "metadata": {
    "id": "5vuuNb5dbjXx"
   },
   "source": [
    "# Dự Đoán Xu Hướng Thời Trang"
   ]
  },
  {
   "cell_type": "code",
   "execution_count": 7,
   "metadata": {
    "id": "pyej9vRsbi7C"
   },
   "outputs": [],
   "source": [
    "X_trend = df[['Age', 'Gender', 'Category', 'Location', 'Color', 'Season']]\n",
    "Y_trend = df['Item Purchased']\n",
    "X_trend_scaled = scaler.fit_transform(X_trend)\n",
    "model_trend = RandomForestClassifier(random_state=42)\n",
    "model_trend.fit(X_trend_scaled, Y_trend)\n",
    "def predict_trend_item(age, gender, category, location, color, season):\n",
    "  new_customer_data = pd.DataFrame({\n",
    "    'Age': [age],\n",
    "    'Gender': [gender],\n",
    "    'Category': [category],\n",
    "    'Location': [location],\n",
    "    'Color': [color],\n",
    "    'Season': [season]\n",
    "  })\n",
    "  # Mã hóa dữ liệu mới\n",
    "  for col in ['Age','Gender', 'Category', 'Location', 'Color', 'Season']:\n",
    "      new_customer_data[col] = label_encoders[col].transform(new_customer_data[col])\n",
    "\n",
    "  # Đảm bảo rằng new_customer_data chỉ chứa các cột cần thiết\n",
    "  new_customer_data = new_customer_data[['Age', 'Gender', 'Category', 'Location', 'Color', 'Season']]\n",
    "\n",
    "  # Chuẩn hóa dữ liệu mới\n",
    "  new_customer_data_scaled = scaler.transform(new_customer_data)\n",
    "\n",
    "  # Dự đoán sản phẩm\n",
    "  predicted_item = model_trend.predict(new_customer_data_scaled)\n",
    "\n",
    "  # Chuyển đổi dự đoán về tên sản phẩm gốc\n",
    "  predicted_item_name = label_encoders['Item Purchased'].inverse_transform(predicted_item)\n",
    "\n",
    "  # Hiển thị kết quả dự đoán\n",
    "  print(\"Dự đoán sản phẩm cho khách hàng:\", predicted_item_name)"
   ]
  },
  {
   "cell_type": "code",
   "execution_count": 8,
   "metadata": {
    "colab": {
     "base_uri": "https://localhost:8080/"
    },
    "id": "pydX7F2pcpwR",
    "outputId": "fcf2d8ce-a538-4495-f590-47aa54b3fc51"
   },
   "outputs": [
    {
     "name": "stdout",
     "output_type": "stream",
     "text": [
      "Dự đoán sản phẩm cho khách hàng: ['Skirt']\n"
     ]
    }
   ],
   "source": [
    "predict_trend_item(30, 'Male', 'Clothing', 'Kentucky', 'Black', 'Spring')"
   ]
  },
  {
   "cell_type": "markdown",
   "metadata": {
    "id": "2K3uZY22sQnv"
   },
   "source": [
    "# Dự đoán phân khúc khách hàng"
   ]
  },
  {
   "cell_type": "code",
   "execution_count": 9,
   "metadata": {
    "id": "G6TOEsxle2to"
   },
   "outputs": [],
   "source": [
    "from sklearn.cluster import KMeans\n",
    "from sklearn.metrics import silhouette_score"
   ]
  },
  {
   "cell_type": "code",
   "execution_count": 10,
   "metadata": {
    "id": "acK38EX769CS"
   },
   "outputs": [],
   "source": [
    "# Chọn các cột để phân cụm\n",
    "X_class = df[['Age', 'Gender', 'Purchase Amount (USD)', 'Location', 'Subscription Status', 'Frequency of Purchases']]\n",
    "\n",
    "# Chuẩn hóa dữ liệu\n",
    "scaler = MinMaxScaler()\n",
    "X_scaled_class = scaler.fit_transform(X_class)\n",
    "\n",
    "# Thực hiện K-Means Clustering\n",
    "kmeans = KMeans(n_clusters=2, random_state=42)  # Chia thành 2 nhóm: tiềm năng và không tiềm năng\n",
    "df['Segment'] = kmeans.fit_predict(X_scaled_class)\n",
    "\n",
    "# Tính khoảng cách Euclidean từ mỗi khách hàng đến các trung tâm cụm\n",
    "centroids = kmeans.cluster_centers_\n",
    "distances = np.linalg.norm(X_scaled_class - centroids[kmeans.labels_], axis=1)\n",
    "\n",
    "# Thêm khoảng cách vào DataFrame\n",
    "df['Distance to Centroid'] = distances\n",
    "\n",
    "# Xác định ngưỡng (threshold) cho khoảng cách\n",
    "threshold = np.median(distances)  # hoặc bạn có thể chọn giá trị khác tùy ý\n",
    "\n",
    "# Phân loại khách hàng\n",
    "df['Potential Customer'] = np.where(df['Distance to Centroid'] < threshold, 'Tiềm năng', 'Không tiềm năng')"
   ]
  },
  {
   "cell_type": "code",
   "execution_count": 11,
   "metadata": {
    "id": "cCrc6-2cydCs"
   },
   "outputs": [],
   "source": [
    "# Giả sử df đã được định nghĩa và chứa dữ liệu cần thiết\n",
    "X_potential = df[['Age', 'Gender', 'Purchase Amount (USD)', 'Location', 'Subscription Status', 'Frequency of Purchases']]\n",
    "Y_potential = df['Potential Customer']\n",
    "\n",
    "# Mã hóa Y_potential\n",
    "label_encoders['Potential Customer'] = LabelEncoder()\n",
    "Y_potential_encoded = label_encoders['Potential Customer'].fit_transform(Y_potential)\n",
    "\n",
    "# Chuẩn hóa dữ liệu\n",
    "scaler = MinMaxScaler()\n",
    "X_potential_scaled = scaler.fit_transform(X_potential)\n",
    "\n",
    "# Huấn luyện mô hình\n",
    "model_potential = RandomForestClassifier(random_state=42)\n",
    "model_potential.fit(X_potential_scaled, Y_potential_encoded)\n",
    "def predict_potential_customer(age, gender, purchase_amount, location, subscription_status, frequency_of_purchases):\n",
    "    # Tạo DataFrame cho khách hàng mới\n",
    "    new_customer_data = pd.DataFrame({\n",
    "        'Age': [age],\n",
    "        'Gender': [gender],\n",
    "        'Purchase Amount (USD)': [purchase_amount],\n",
    "        'Location': [location],\n",
    "        'Subscription Status': [subscription_status],\n",
    "        'Frequency of Purchases': [frequency_of_purchases]\n",
    "    })\n",
    "\n",
    "    # Mã hóa dữ liệu mới cho các cột cần thiết\n",
    "    for col in ['Age','Gender', 'Location', 'Subscription Status', 'Frequency of Purchases']:\n",
    "        if col in label_encoders:\n",
    "            new_customer_data[col] = label_encoders[col].transform(new_customer_data[col])\n",
    "        else:\n",
    "            print(f\"Không tìm thấy label encoder cho cột: {col}\")\n",
    "\n",
    "    # Đảm bảo rằng new_customer_data chỉ chứa các cột cần thiết\n",
    "    new_customer_data = new_customer_data[['Age', 'Gender', 'Purchase Amount (USD)', 'Location', 'Subscription Status', 'Frequency of Purchases']]\n",
    "\n",
    "    new_customer_data_scaled = scaler.transform(new_customer_data)\n",
    "\n",
    "    # Dự đoán tiềm năng\n",
    "    predicted_potential = model_potential.predict(new_customer_data_scaled)\n",
    "\n",
    "\n",
    "    predicted_potential_name = label_encoders['Potential Customer'].inverse_transform(predicted_potential)\n",
    "\n",
    "    # Hiển thị kết quả dự đoán\n",
    "    print(\"Dự đoán tiềm năng khách hàng:\", predicted_potential_name[0])"
   ]
  },
  {
   "cell_type": "code",
   "execution_count": 12,
   "metadata": {
    "colab": {
     "base_uri": "https://localhost:8080/"
    },
    "id": "D60xJNw5sRQw",
    "outputId": "b1a2aaab-1615-4731-a744-703385184775"
   },
   "outputs": [
    {
     "name": "stdout",
     "output_type": "stream",
     "text": [
      "Dự đoán tiềm năng khách hàng: Không tiềm năng\n"
     ]
    }
   ],
   "source": [
    "predict_potential_customer(44, 'Female', 77, 'Minnesota', \"No\",'Weekly')\n"
   ]
  },
  {
   "cell_type": "code",
   "execution_count": 13,
   "metadata": {},
   "outputs": [
    {
     "data": {
      "text/plain": [
       "['models/scaler_potential.pkl']"
      ]
     },
     "execution_count": 13,
     "metadata": {},
     "output_type": "execute_result"
    }
   ],
   "source": [
    "import joblib\n",
    "\n",
    "# Chuẩn hóa dữ liệu cho xu hướng thời trang\n",
    "scaler_trend = MinMaxScaler()\n",
    "X_trend_scaled = scaler_trend.fit_transform(X_trend)\n",
    "\n",
    "# Chuẩn hóa dữ liệu cho phân khúc khách hàng\n",
    "scaler_potential = MinMaxScaler()\n",
    "X_potential_scaled = scaler_potential.fit_transform(X_potential)\n",
    "\n",
    "# Lưu scaler riêng cho từng mô hình\n",
    "joblib.dump(scaler_trend, \"models/scaler_trend.pkl\")\n",
    "joblib.dump(scaler_potential, \"models/scaler_potential.pkl\")\n"
   ]
  },
  {
   "cell_type": "code",
   "execution_count": 14,
   "metadata": {},
   "outputs": [],
   "source": [
    "import joblib\n"
   ]
  },
  {
   "cell_type": "code",
   "execution_count": 15,
   "metadata": {},
   "outputs": [
    {
     "data": {
      "text/plain": [
       "['models/label_encoders.pkl']"
      ]
     },
     "execution_count": 15,
     "metadata": {},
     "output_type": "execute_result"
    }
   ],
   "source": [
    "# Lưu model dự đoán xu hướng\n",
    "joblib.dump(model_trend, \"models/model_trend.pkl\")\n",
    "\n",
    "# Lưu model dự đoán phân khúc\n",
    "joblib.dump(model_potential, \"models/model_potential.pkl\")\n",
    "\n",
    "# Lưu scaler riêng cho từng mô hình\n",
    "joblib.dump(scaler_trend, \"models/scaler_trend.pkl\")\n",
    "joblib.dump(scaler_potential, \"models/scaler_potential.pkl\")\n",
    "\n",
    "# Lưu label encoders\n",
    "joblib.dump(label_encoders, \"models/label_encoders.pkl\")\n"
   ]
  },
  {
   "cell_type": "code",
   "execution_count": 16,
   "metadata": {},
   "outputs": [],
   "source": [
    "scaler_trend = joblib.load(\"models/scaler_trend.pkl\")\n",
    "scaler_potential = joblib.load(\"models/scaler_potential.pkl\")\n"
   ]
  }
 ],
 "metadata": {
  "colab": {
   "provenance": []
  },
  "kernelspec": {
   "display_name": "myenv",
   "language": "python",
   "name": "python3"
  },
  "language_info": {
   "codemirror_mode": {
    "name": "ipython",
    "version": 3
   },
   "file_extension": ".py",
   "mimetype": "text/x-python",
   "name": "python",
   "nbconvert_exporter": "python",
   "pygments_lexer": "ipython3",
   "version": "3.12.3"
  }
 },
 "nbformat": 4,
 "nbformat_minor": 0
}
